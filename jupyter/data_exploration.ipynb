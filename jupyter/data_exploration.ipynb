{
  "nbformat": 4,
  "nbformat_minor": 0,
  "metadata": {
    "colab": {
      "name": "data_exploration.ipynb",
      "version": "0.3.2",
      "provenance": [],
      "collapsed_sections": [],
      "include_colab_link": true
    },
    "kernelspec": {
      "name": "python3",
      "display_name": "Python 3"
    }
  },
  "cells": [
    {
      "cell_type": "markdown",
      "metadata": {
        "id": "view-in-github",
        "colab_type": "text"
      },
      "source": [
        "<a href=\"https://colab.research.google.com/github/tchappui/webinaire-repositorypattern-20190401/blob/master/jupyter/data_exploration.ipynb\" target=\"_parent\"><img src=\"https://colab.research.google.com/assets/colab-badge.svg\" alt=\"Open In Colab\"/></a>"
      ]
    },
    {
      "metadata": {
        "id": "gRQvo3lGf-qe",
        "colab_type": "code",
        "colab": {}
      },
      "cell_type": "code",
      "source": [
        "import numpy as np\n",
        "import pandas as pd"
      ],
      "execution_count": 0,
      "outputs": []
    },
    {
      "metadata": {
        "id": "G3__zMU0gT91",
        "colab_type": "code",
        "colab": {}
      },
      "cell_type": "code",
      "source": [
        "!wget https://raw.githubusercontent.com/tchappui/webinaire-repositorypattern-20190401/master/data/movie_metadata.csv &> /dev/null"
      ],
      "execution_count": 0,
      "outputs": []
    },
    {
      "metadata": {
        "id": "LZ1ldOOmgvRK",
        "colab_type": "code",
        "colab": {}
      },
      "cell_type": "code",
      "source": [
        "df = pd.read_csv('movie_metadata.csv')"
      ],
      "execution_count": 0,
      "outputs": []
    },
    {
      "metadata": {
        "id": "p9Fe5tbouSI4",
        "colab_type": "code",
        "colab": {
          "base_uri": "https://localhost:8080/",
          "height": 583
        },
        "outputId": "e47f12cc-e6be-49fd-abaf-7942a2467ac0"
      },
      "cell_type": "code",
      "source": [
        "df.info()"
      ],
      "execution_count": 4,
      "outputs": [
        {
          "output_type": "stream",
          "text": [
            "<class 'pandas.core.frame.DataFrame'>\n",
            "RangeIndex: 5043 entries, 0 to 5042\n",
            "Data columns (total 28 columns):\n",
            "color                        5024 non-null object\n",
            "director_name                4939 non-null object\n",
            "num_critic_for_reviews       4993 non-null float64\n",
            "duration                     5028 non-null float64\n",
            "director_facebook_likes      4939 non-null float64\n",
            "actor_3_facebook_likes       5020 non-null float64\n",
            "actor_2_name                 5030 non-null object\n",
            "actor_1_facebook_likes       5036 non-null float64\n",
            "gross                        4159 non-null float64\n",
            "genres                       5043 non-null object\n",
            "actor_1_name                 5036 non-null object\n",
            "movie_title                  5043 non-null object\n",
            "num_voted_users              5043 non-null int64\n",
            "cast_total_facebook_likes    5043 non-null int64\n",
            "actor_3_name                 5020 non-null object\n",
            "facenumber_in_poster         5030 non-null float64\n",
            "plot_keywords                4890 non-null object\n",
            "movie_imdb_link              5043 non-null object\n",
            "num_user_for_reviews         5022 non-null float64\n",
            "language                     5031 non-null object\n",
            "country                      5038 non-null object\n",
            "content_rating               4740 non-null object\n",
            "budget                       4551 non-null float64\n",
            "title_year                   4935 non-null float64\n",
            "actor_2_facebook_likes       5030 non-null float64\n",
            "imdb_score                   5043 non-null float64\n",
            "aspect_ratio                 4714 non-null float64\n",
            "movie_facebook_likes         5043 non-null int64\n",
            "dtypes: float64(13), int64(3), object(12)\n",
            "memory usage: 1.1+ MB\n"
          ],
          "name": "stdout"
        }
      ]
    },
    {
      "metadata": {
        "id": "rj84dOxftwnv",
        "colab_type": "code",
        "colab": {}
      },
      "cell_type": "code",
      "source": [
        "selection = [\n",
        "    'director_name', \n",
        "    'actor_1_name', \n",
        "    'actor_2_name', \n",
        "    'actor_3_name', \n",
        "    'genres', \n",
        "    'plot_keywords', \n",
        "    'title_year', \n",
        "    'imdb_score', \n",
        "    'content_rating',\n",
        "    'country',\n",
        "    'title_year',\n",
        "    'movie_imdb_link',\n",
        "]"
      ],
      "execution_count": 0,
      "outputs": []
    },
    {
      "metadata": {
        "id": "a4iMSpBpvYgF",
        "colab_type": "code",
        "colab": {
          "base_uri": "https://localhost:8080/",
          "height": 308
        },
        "outputId": "3b4f0a95-72da-4f94-c861-d44b09576901"
      },
      "cell_type": "code",
      "source": [
        "df = df[selection]\n",
        "df.head()"
      ],
      "execution_count": 6,
      "outputs": [
        {
          "output_type": "execute_result",
          "data": {
            "text/html": [
              "<div>\n",
              "<style scoped>\n",
              "    .dataframe tbody tr th:only-of-type {\n",
              "        vertical-align: middle;\n",
              "    }\n",
              "\n",
              "    .dataframe tbody tr th {\n",
              "        vertical-align: top;\n",
              "    }\n",
              "\n",
              "    .dataframe thead th {\n",
              "        text-align: right;\n",
              "    }\n",
              "</style>\n",
              "<table border=\"1\" class=\"dataframe\">\n",
              "  <thead>\n",
              "    <tr style=\"text-align: right;\">\n",
              "      <th></th>\n",
              "      <th>director_name</th>\n",
              "      <th>actor_1_name</th>\n",
              "      <th>actor_2_name</th>\n",
              "      <th>actor_3_name</th>\n",
              "      <th>genres</th>\n",
              "      <th>plot_keywords</th>\n",
              "      <th>title_year</th>\n",
              "      <th>imdb_score</th>\n",
              "      <th>content_rating</th>\n",
              "      <th>country</th>\n",
              "      <th>title_year</th>\n",
              "      <th>movie_imdb_link</th>\n",
              "    </tr>\n",
              "  </thead>\n",
              "  <tbody>\n",
              "    <tr>\n",
              "      <th>0</th>\n",
              "      <td>James Cameron</td>\n",
              "      <td>CCH Pounder</td>\n",
              "      <td>Joel David Moore</td>\n",
              "      <td>Wes Studi</td>\n",
              "      <td>Action|Adventure|Fantasy|Sci-Fi</td>\n",
              "      <td>avatar|future|marine|native|paraplegic</td>\n",
              "      <td>2009.0</td>\n",
              "      <td>7.9</td>\n",
              "      <td>PG-13</td>\n",
              "      <td>USA</td>\n",
              "      <td>2009.0</td>\n",
              "      <td>http://www.imdb.com/title/tt0499549/?ref_=fn_t...</td>\n",
              "    </tr>\n",
              "    <tr>\n",
              "      <th>1</th>\n",
              "      <td>Gore Verbinski</td>\n",
              "      <td>Johnny Depp</td>\n",
              "      <td>Orlando Bloom</td>\n",
              "      <td>Jack Davenport</td>\n",
              "      <td>Action|Adventure|Fantasy</td>\n",
              "      <td>goddess|marriage ceremony|marriage proposal|pi...</td>\n",
              "      <td>2007.0</td>\n",
              "      <td>7.1</td>\n",
              "      <td>PG-13</td>\n",
              "      <td>USA</td>\n",
              "      <td>2007.0</td>\n",
              "      <td>http://www.imdb.com/title/tt0449088/?ref_=fn_t...</td>\n",
              "    </tr>\n",
              "    <tr>\n",
              "      <th>2</th>\n",
              "      <td>Sam Mendes</td>\n",
              "      <td>Christoph Waltz</td>\n",
              "      <td>Rory Kinnear</td>\n",
              "      <td>Stephanie Sigman</td>\n",
              "      <td>Action|Adventure|Thriller</td>\n",
              "      <td>bomb|espionage|sequel|spy|terrorist</td>\n",
              "      <td>2015.0</td>\n",
              "      <td>6.8</td>\n",
              "      <td>PG-13</td>\n",
              "      <td>UK</td>\n",
              "      <td>2015.0</td>\n",
              "      <td>http://www.imdb.com/title/tt2379713/?ref_=fn_t...</td>\n",
              "    </tr>\n",
              "    <tr>\n",
              "      <th>3</th>\n",
              "      <td>Christopher Nolan</td>\n",
              "      <td>Tom Hardy</td>\n",
              "      <td>Christian Bale</td>\n",
              "      <td>Joseph Gordon-Levitt</td>\n",
              "      <td>Action|Thriller</td>\n",
              "      <td>deception|imprisonment|lawlessness|police offi...</td>\n",
              "      <td>2012.0</td>\n",
              "      <td>8.5</td>\n",
              "      <td>PG-13</td>\n",
              "      <td>USA</td>\n",
              "      <td>2012.0</td>\n",
              "      <td>http://www.imdb.com/title/tt1345836/?ref_=fn_t...</td>\n",
              "    </tr>\n",
              "    <tr>\n",
              "      <th>4</th>\n",
              "      <td>Doug Walker</td>\n",
              "      <td>Doug Walker</td>\n",
              "      <td>Rob Walker</td>\n",
              "      <td>NaN</td>\n",
              "      <td>Documentary</td>\n",
              "      <td>NaN</td>\n",
              "      <td>NaN</td>\n",
              "      <td>7.1</td>\n",
              "      <td>NaN</td>\n",
              "      <td>NaN</td>\n",
              "      <td>NaN</td>\n",
              "      <td>http://www.imdb.com/title/tt5289954/?ref_=fn_t...</td>\n",
              "    </tr>\n",
              "  </tbody>\n",
              "</table>\n",
              "</div>"
            ],
            "text/plain": [
              "       director_name     actor_1_name      actor_2_name          actor_3_name  \\\n",
              "0      James Cameron      CCH Pounder  Joel David Moore             Wes Studi   \n",
              "1     Gore Verbinski      Johnny Depp     Orlando Bloom        Jack Davenport   \n",
              "2         Sam Mendes  Christoph Waltz      Rory Kinnear      Stephanie Sigman   \n",
              "3  Christopher Nolan        Tom Hardy    Christian Bale  Joseph Gordon-Levitt   \n",
              "4        Doug Walker      Doug Walker        Rob Walker                   NaN   \n",
              "\n",
              "                            genres  \\\n",
              "0  Action|Adventure|Fantasy|Sci-Fi   \n",
              "1         Action|Adventure|Fantasy   \n",
              "2        Action|Adventure|Thriller   \n",
              "3                  Action|Thriller   \n",
              "4                      Documentary   \n",
              "\n",
              "                                       plot_keywords  title_year  imdb_score  \\\n",
              "0             avatar|future|marine|native|paraplegic      2009.0         7.9   \n",
              "1  goddess|marriage ceremony|marriage proposal|pi...      2007.0         7.1   \n",
              "2                bomb|espionage|sequel|spy|terrorist      2015.0         6.8   \n",
              "3  deception|imprisonment|lawlessness|police offi...      2012.0         8.5   \n",
              "4                                                NaN         NaN         7.1   \n",
              "\n",
              "  content_rating country  title_year  \\\n",
              "0          PG-13     USA      2009.0   \n",
              "1          PG-13     USA      2007.0   \n",
              "2          PG-13      UK      2015.0   \n",
              "3          PG-13     USA      2012.0   \n",
              "4            NaN     NaN         NaN   \n",
              "\n",
              "                                     movie_imdb_link  \n",
              "0  http://www.imdb.com/title/tt0499549/?ref_=fn_t...  \n",
              "1  http://www.imdb.com/title/tt0449088/?ref_=fn_t...  \n",
              "2  http://www.imdb.com/title/tt2379713/?ref_=fn_t...  \n",
              "3  http://www.imdb.com/title/tt1345836/?ref_=fn_t...  \n",
              "4  http://www.imdb.com/title/tt5289954/?ref_=fn_t...  "
            ]
          },
          "metadata": {
            "tags": []
          },
          "execution_count": 6
        }
      ]
    },
    {
      "metadata": {
        "id": "kKXpXtFFvaoT",
        "colab_type": "code",
        "colab": {}
      },
      "cell_type": "code",
      "source": [
        "def group_actors(row):\n",
        "    actors = [row.actor_1_name, row.actor_2_name, row.actor_2_name]\n",
        "    row['actors'] = actors\n",
        "    return row\n",
        "\n",
        "df = df.apply(group_actors, axis=1)\n",
        "df['genres'] = df.genres.str.lower().str.split('|')\n",
        "df['keywords'] = df.plot_keywords.str.split('|')\n"
      ],
      "execution_count": 0,
      "outputs": []
    },
    {
      "metadata": {
        "id": "He_kWJe0zbH4",
        "colab_type": "code",
        "colab": {
          "base_uri": "https://localhost:8080/",
          "height": 274
        },
        "outputId": "2b3054d6-1152-449b-b49d-190655532c17"
      },
      "cell_type": "code",
      "source": [
        "df = df.drop(labels=['actor_1_name', 'actor_2_name', 'actor_3_name', 'plot_keywords'], axis=1).dropna()\n",
        "df.info()"
      ],
      "execution_count": 8,
      "outputs": [
        {
          "output_type": "stream",
          "text": [
            "<class 'pandas.core.frame.DataFrame'>\n",
            "Int64Index: 4602 entries, 0 to 5042\n",
            "Data columns (total 10 columns):\n",
            "director_name      4602 non-null object\n",
            "genres             4602 non-null object\n",
            "title_year         4602 non-null float64\n",
            "imdb_score         4602 non-null float64\n",
            "content_rating     4602 non-null object\n",
            "country            4602 non-null object\n",
            "title_year         4602 non-null float64\n",
            "movie_imdb_link    4602 non-null object\n",
            "actors             4602 non-null object\n",
            "keywords           4602 non-null object\n",
            "dtypes: float64(3), object(7)\n",
            "memory usage: 395.5+ KB\n"
          ],
          "name": "stdout"
        }
      ]
    },
    {
      "metadata": {
        "id": "i898VyfIwHqe",
        "colab_type": "code",
        "colab": {
          "base_uri": "https://localhost:8080/",
          "height": 686
        },
        "outputId": "2e5883ec-885d-44c7-941f-b4127b5b5eb3"
      },
      "cell_type": "code",
      "source": [
        "df.head()"
      ],
      "execution_count": 9,
      "outputs": [
        {
          "output_type": "execute_result",
          "data": {
            "text/html": [
              "<div>\n",
              "<style scoped>\n",
              "    .dataframe tbody tr th:only-of-type {\n",
              "        vertical-align: middle;\n",
              "    }\n",
              "\n",
              "    .dataframe tbody tr th {\n",
              "        vertical-align: top;\n",
              "    }\n",
              "\n",
              "    .dataframe thead th {\n",
              "        text-align: right;\n",
              "    }\n",
              "</style>\n",
              "<table border=\"1\" class=\"dataframe\">\n",
              "  <thead>\n",
              "    <tr style=\"text-align: right;\">\n",
              "      <th></th>\n",
              "      <th>director_name</th>\n",
              "      <th>genres</th>\n",
              "      <th>title_year</th>\n",
              "      <th>imdb_score</th>\n",
              "      <th>content_rating</th>\n",
              "      <th>country</th>\n",
              "      <th>title_year</th>\n",
              "      <th>movie_imdb_link</th>\n",
              "      <th>actors</th>\n",
              "      <th>keywords</th>\n",
              "    </tr>\n",
              "  </thead>\n",
              "  <tbody>\n",
              "    <tr>\n",
              "      <th>0</th>\n",
              "      <td>James Cameron</td>\n",
              "      <td>[action, adventure, fantasy, sci-fi]</td>\n",
              "      <td>2009.0</td>\n",
              "      <td>7.9</td>\n",
              "      <td>PG-13</td>\n",
              "      <td>USA</td>\n",
              "      <td>2009.0</td>\n",
              "      <td>http://www.imdb.com/title/tt0499549/?ref_=fn_t...</td>\n",
              "      <td>[CCH Pounder, Joel David Moore, Joel David Moore]</td>\n",
              "      <td>[avatar, future, marine, native, paraplegic]</td>\n",
              "    </tr>\n",
              "    <tr>\n",
              "      <th>1</th>\n",
              "      <td>Gore Verbinski</td>\n",
              "      <td>[action, adventure, fantasy]</td>\n",
              "      <td>2007.0</td>\n",
              "      <td>7.1</td>\n",
              "      <td>PG-13</td>\n",
              "      <td>USA</td>\n",
              "      <td>2007.0</td>\n",
              "      <td>http://www.imdb.com/title/tt0449088/?ref_=fn_t...</td>\n",
              "      <td>[Johnny Depp, Orlando Bloom, Orlando Bloom]</td>\n",
              "      <td>[goddess, marriage ceremony, marriage proposal...</td>\n",
              "    </tr>\n",
              "    <tr>\n",
              "      <th>2</th>\n",
              "      <td>Sam Mendes</td>\n",
              "      <td>[action, adventure, thriller]</td>\n",
              "      <td>2015.0</td>\n",
              "      <td>6.8</td>\n",
              "      <td>PG-13</td>\n",
              "      <td>UK</td>\n",
              "      <td>2015.0</td>\n",
              "      <td>http://www.imdb.com/title/tt2379713/?ref_=fn_t...</td>\n",
              "      <td>[Christoph Waltz, Rory Kinnear, Rory Kinnear]</td>\n",
              "      <td>[bomb, espionage, sequel, spy, terrorist]</td>\n",
              "    </tr>\n",
              "    <tr>\n",
              "      <th>3</th>\n",
              "      <td>Christopher Nolan</td>\n",
              "      <td>[action, thriller]</td>\n",
              "      <td>2012.0</td>\n",
              "      <td>8.5</td>\n",
              "      <td>PG-13</td>\n",
              "      <td>USA</td>\n",
              "      <td>2012.0</td>\n",
              "      <td>http://www.imdb.com/title/tt1345836/?ref_=fn_t...</td>\n",
              "      <td>[Tom Hardy, Christian Bale, Christian Bale]</td>\n",
              "      <td>[deception, imprisonment, lawlessness, police ...</td>\n",
              "    </tr>\n",
              "    <tr>\n",
              "      <th>5</th>\n",
              "      <td>Andrew Stanton</td>\n",
              "      <td>[action, adventure, sci-fi]</td>\n",
              "      <td>2012.0</td>\n",
              "      <td>6.6</td>\n",
              "      <td>PG-13</td>\n",
              "      <td>USA</td>\n",
              "      <td>2012.0</td>\n",
              "      <td>http://www.imdb.com/title/tt0401729/?ref_=fn_t...</td>\n",
              "      <td>[Daryl Sabara, Samantha Morton, Samantha Morton]</td>\n",
              "      <td>[alien, american civil war, male nipple, mars,...</td>\n",
              "    </tr>\n",
              "  </tbody>\n",
              "</table>\n",
              "</div>"
            ],
            "text/plain": [
              "       director_name                                genres  title_year  \\\n",
              "0      James Cameron  [action, adventure, fantasy, sci-fi]      2009.0   \n",
              "1     Gore Verbinski          [action, adventure, fantasy]      2007.0   \n",
              "2         Sam Mendes         [action, adventure, thriller]      2015.0   \n",
              "3  Christopher Nolan                    [action, thriller]      2012.0   \n",
              "5     Andrew Stanton           [action, adventure, sci-fi]      2012.0   \n",
              "\n",
              "   imdb_score content_rating country  title_year  \\\n",
              "0         7.9          PG-13     USA      2009.0   \n",
              "1         7.1          PG-13     USA      2007.0   \n",
              "2         6.8          PG-13      UK      2015.0   \n",
              "3         8.5          PG-13     USA      2012.0   \n",
              "5         6.6          PG-13     USA      2012.0   \n",
              "\n",
              "                                     movie_imdb_link  \\\n",
              "0  http://www.imdb.com/title/tt0499549/?ref_=fn_t...   \n",
              "1  http://www.imdb.com/title/tt0449088/?ref_=fn_t...   \n",
              "2  http://www.imdb.com/title/tt2379713/?ref_=fn_t...   \n",
              "3  http://www.imdb.com/title/tt1345836/?ref_=fn_t...   \n",
              "5  http://www.imdb.com/title/tt0401729/?ref_=fn_t...   \n",
              "\n",
              "                                              actors  \\\n",
              "0  [CCH Pounder, Joel David Moore, Joel David Moore]   \n",
              "1        [Johnny Depp, Orlando Bloom, Orlando Bloom]   \n",
              "2      [Christoph Waltz, Rory Kinnear, Rory Kinnear]   \n",
              "3        [Tom Hardy, Christian Bale, Christian Bale]   \n",
              "5   [Daryl Sabara, Samantha Morton, Samantha Morton]   \n",
              "\n",
              "                                            keywords  \n",
              "0       [avatar, future, marine, native, paraplegic]  \n",
              "1  [goddess, marriage ceremony, marriage proposal...  \n",
              "2          [bomb, espionage, sequel, spy, terrorist]  \n",
              "3  [deception, imprisonment, lawlessness, police ...  \n",
              "5  [alien, american civil war, male nipple, mars,...  "
            ]
          },
          "metadata": {
            "tags": []
          },
          "execution_count": 9
        }
      ]
    },
    {
      "metadata": {
        "id": "eNaZKcBKz0QD",
        "colab_type": "code",
        "colab": {}
      },
      "cell_type": "code",
      "source": [
        ""
      ],
      "execution_count": 0,
      "outputs": []
    },
    {
      "metadata": {
        "id": "Ir9pj5zE0Mei",
        "colab_type": "code",
        "colab": {}
      },
      "cell_type": "code",
      "source": [
        ""
      ],
      "execution_count": 0,
      "outputs": []
    }
  ]
}